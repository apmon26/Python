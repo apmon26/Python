{
  "nbformat": 4,
  "nbformat_minor": 0,
  "metadata": {
    "kernelspec": {
      "display_name": "Python 3",
      "language": "python",
      "name": "python3"
    },
    "language_info": {
      "codemirror_mode": {
        "name": "ipython",
        "version": 3
      },
      "file_extension": ".py",
      "mimetype": "text/x-python",
      "name": "python",
      "nbconvert_exporter": "python",
      "pygments_lexer": "ipython3",
      "version": "3.7.1"
    },
    "colab": {
      "provenance": [],
      "include_colab_link": true
    }
  },
  "cells": [
    {
      "cell_type": "markdown",
      "metadata": {
        "id": "view-in-github",
        "colab_type": "text"
      },
      "source": [
        "<a href=\"https://colab.research.google.com/github/apmon26/Python/blob/main/INFO212_Week1_1_Lecture_python_jupytper.ipynb\" target=\"_parent\"><img src=\"https://colab.research.google.com/assets/colab-badge.svg\" alt=\"Open In Colab\"/></a>"
      ]
    },
    {
      "cell_type": "markdown",
      "metadata": {
        "id": "aWL1iSNqF4kn"
      },
      "source": [
        "# INFO 212: Data Science Programming 1\n",
        "## CCI at Drexel University\n",
        "### Yuan An, PhD\n",
        "### Associate Professor\n",
        "\n",
        "## Week 1-Lecture 1: Setup and Review: Python and Jupyter Notebooks\n",
        "---\n",
        "## **What should you learn from today's lecture?**\n",
        "- Use Colab notebook\n",
        "- Use Colab AI\n",
        "- import conventions\n",
        "- Markdown instructions\n",
        "- Define a function: def fun()\n",
        "- Variables, data types\n",
        "- Strings\n",
        "- if..elif..else\n",
        "- for loop\n",
        "- None type\n",
        "- Open and save files from Google drive\n",
        "- try...except\n",
        "---\n"
      ]
    },
    {
      "cell_type": "markdown",
      "source": [
        "## Open Colab Notebook\n",
        "- There two types of cells: code and text"
      ],
      "metadata": {
        "id": "FKbs0Mp3SqCX"
      }
    },
    {
      "cell_type": "markdown",
      "metadata": {
        "id": "_9alPk73F4ku"
      },
      "source": [
        "## Set up Directories\n",
        "I recommend you to put all your notebooks and datasets in a directory called \"info212\" in your Google Drive.\n",
        "- Mount your drive to your notebook.\n",
        "- Navigate the directory from your notebook.\n",
        "\n",
        "### Exercise:\n",
        "- Download this notebook to \"info212\". Upload and open it in colab.\n",
        "- Download the datasets from the course shell. Print out the path of the file 'iris.csv'."
      ]
    },
    {
      "cell_type": "code",
      "source": [],
      "metadata": {
        "id": "aLc5em8Qdb_6"
      },
      "execution_count": null,
      "outputs": []
    },
    {
      "cell_type": "markdown",
      "source": [
        "### Excercise\n",
        "- In a code cell, write a function to compute the square root of a number. Test the function on -2, 3, 4 and print out the results."
      ],
      "metadata": {
        "id": "1Bp3oiTMTCj3"
      }
    },
    {
      "cell_type": "code",
      "source": [],
      "metadata": {
        "id": "sjZgo0afTzGO"
      },
      "execution_count": null,
      "outputs": []
    },
    {
      "cell_type": "markdown",
      "metadata": {
        "id": "P1oH9Xm7JYzO"
      },
      "source": [
        "### Text Cell\n",
        "- In a text cell, you can add description for your work. It is essential to add sufficient description about your data analysis activities. Just like code comments are essentials during coding.\n",
        "- Markdown is a simple language to define the styles if you use a notebook environment that doesn't have the styling menus."
      ]
    },
    {
      "cell_type": "markdown",
      "source": [
        "### Excercise\n",
        "- Create a text cell and add a public picture linked here: https://i.imgur.com/oGHBQwb.png"
      ],
      "metadata": {
        "id": "LZt_e77zVON0"
      }
    },
    {
      "cell_type": "code",
      "source": [],
      "metadata": {
        "id": "X488Ta_xVFR7"
      },
      "execution_count": null,
      "outputs": []
    },
    {
      "cell_type": "markdown",
      "source": [
        "## Use Code Assistants\n",
        "- AI tools are rich learning resources.\n",
        "- Use AI tools to get the right syntax\n",
        "- Use AI tools to fix bugs\n",
        "- **However, you must learn the fundamentals to use AI tools effectively and correctly.**"
      ],
      "metadata": {
        "id": "-dIFtB7KV7Fs"
      }
    },
    {
      "cell_type": "markdown",
      "source": [
        "### Exercise:\n",
        "- Ask the AI tool to write a function to calculate the average of a list of numbers and test it on an empty list."
      ],
      "metadata": {
        "id": "V2nvTRpQa5PO"
      }
    },
    {
      "cell_type": "code",
      "source": [],
      "metadata": {
        "id": "BqtxwCBGbGsx"
      },
      "execution_count": null,
      "outputs": []
    },
    {
      "cell_type": "markdown",
      "source": [
        "## What Does Data Science Programming Do?\n",
        "- Write programs to scrape data from sources.\n",
        "- Write programs to manipuate data.\n",
        "- Store data in desired structures and formats.\n",
        "- Write programs to answer meaningful questions involving complicated operations such as comparison, distillation, aggregation, and visualization."
      ],
      "metadata": {
        "id": "WAIWfCKobnjI"
      }
    },
    {
      "cell_type": "markdown",
      "metadata": {
        "id": "GE1YFyRUF4kt"
      },
      "source": [
        "## The primary focus of analysis is on structured data, such as\n",
        "* Multidimensional arrays (matrices)\n",
        "* Tabular or spreadsheet-like data in which each column may be a different type (string, numeric, date, or otherwise). This includes most kinds of data commonly stored in relational databases or tab- or comma-delimited text files\n",
        "* Multiple tables of data interrelated by key columns\n",
        "* Evenly or unevenly spaced time series\n",
        "\n",
        "## Essential Python Libraries\n",
        "\n",
        "The following is a list of essential python libraries in the scientific Python ecosystem:\n",
        "\n",
        "### NumPy\n",
        "NumPy, short for Numerical Python, is the foundational package for scientific computing\n",
        "in Python.It provides, among other things:\n",
        "* A fast and efficient multidimensional array object ndarray\n",
        "* Functions for performing element-wise computations with arrays or mathematical operations between arrays\n",
        "* Tools for reading and writing array-based data sets to disk\n",
        "* Linear algebra operations, Fourier transform, and random number generation\n",
        "* Tools for integrating connecting C, C++, and Fortran code to Python\n",
        "\n",
        "### Pandas\n",
        "pandas provides rich data structures and functions designed to make working with\n",
        "structured data fast, easy, and expressive. It is, as you will see, one of the critical ingredients enabling Python to be a powerful and productive data analysis environment.\n",
        "The primary object in pandas that will be used in this book is the DataFrame, a two-dimensional tabular, column-oriented data structure with both row and column labels.\n",
        "\n",
        "### matplotlib\n",
        "matplotlib is the most popular Python library for producing plots and other 2D data\n",
        "visualizations.\n",
        "\n",
        "### Seaborn\n",
        "Seaborn is a Python data visualization library based on matplotlib. It provides a high-level interface for drawing attractive and informative statistical graphics.\n",
        "\n",
        "### SciPy\n",
        "SciPy is a collection of packages addressing a number of different standard problem\n",
        "domains in scientific computing.\n",
        "\n",
        "### Scikit-Learn\n",
        "Scikit-learn is a machine learning library for the Python programming language. It features various classification, regression and clustering algorithms including support vector machines, random forests, gradient boosting, k-means, etc."
      ]
    },
    {
      "cell_type": "markdown",
      "metadata": {
        "id": "NtROmfKhF4ku"
      },
      "source": [
        "## Import Conventions\n",
        "The Python community has adopted a number of naming conventions for commonly used\n",
        "modules:"
      ]
    },
    {
      "cell_type": "markdown",
      "source": [
        "## Import libraries"
      ],
      "metadata": {
        "id": "rSoOzmBD1IvJ"
      }
    },
    {
      "cell_type": "markdown",
      "source": [
        "```\n",
        "import pandas as pd\n",
        "import numpy as np\n",
        "import matplotlib\n",
        "import matplotlib.pyplot as plt\n",
        "```"
      ],
      "metadata": {
        "id": "7y9IHR9w8rTS"
      }
    },
    {
      "cell_type": "markdown",
      "source": [
        "```\n",
        "# Print the version of the packages\n",
        "print(matplotlib.__version__)\n",
        "```"
      ],
      "metadata": {
        "id": "C_x6yigP8wx4"
      }
    },
    {
      "cell_type": "code",
      "source": [],
      "metadata": {
        "id": "OKeYqNHUduQI"
      },
      "execution_count": null,
      "outputs": []
    },
    {
      "cell_type": "markdown",
      "source": [
        "## Access External Data Sets\n",
        "- Your data should be stored in the Google Drive\n",
        "- For small data set, you can upload the data set to the notebook (in a virtual machine)\n",
        "\n",
        "`from google.colab import files`\n",
        "\n",
        "`files.upload()`\n",
        "\n",
        "- For large data sets, mount the drive and use the paths"
      ],
      "metadata": {
        "id": "KzGZLRAmpWRs"
      }
    },
    {
      "cell_type": "markdown",
      "source": [
        "### Exercise:\n",
        "- Open the file \"iris.csv\" in Google Drive and print out its content."
      ],
      "metadata": {
        "id": "cgrLYHw4qD4e"
      }
    },
    {
      "cell_type": "code",
      "source": [],
      "metadata": {
        "id": "YRuuZJWfqNkq"
      },
      "execution_count": null,
      "outputs": []
    },
    {
      "cell_type": "markdown",
      "metadata": {
        "id": "Cu5Pv7pDF4kv"
      },
      "source": [
        "# Introdcution to Data Analysis Tasks\n",
        "\n",
        "In this course we will learn the Python tools to work productively with data. The tasks required generally fall into a number of different broad groups:\n",
        "* **_Interacting with the outside world_**\n",
        "    - Reading and writing with a variety of file formats and databases.\n",
        "    \n",
        "* **_Preparation_**\n",
        "    - Cleaning, munging, combining, normalizing, reshaping, slicing and dicing, and transforming data for analysis.\n",
        "    \n",
        "* **_Transformation_**\n",
        "    - Applying mathematical and statistical operations to groups of data sets to derive new data sets. For example, aggregating a large table by group variables.\n",
        "    \n",
        "* **_Modeling and computation_**\n",
        "    - Connecting your data to statistical models, machine learning algorithms, or other computational tools.\n",
        "    \n",
        "* **_Presentation_**\n",
        "    - Creating interactive or static graphical visualizations or textual summaries.\n"
      ]
    },
    {
      "cell_type": "markdown",
      "source": [
        "# **Although today's AI tools are powerful enough that can automatically carry out the tasks, high-level human intelligence and intervention are essential in data analysis.**"
      ],
      "metadata": {
        "id": "B3CVOeoBqVPu"
      }
    },
    {
      "cell_type": "markdown",
      "source": [
        "# What should a data scientist be able to do?\n",
        "- Master the programming fundamentals\n",
        "- Understand the business needs and ask meaingful questions\n"
      ],
      "metadata": {
        "id": "jJ4jJO48riEV"
      }
    },
    {
      "cell_type": "markdown",
      "source": [
        "### An Example for Describing Data and Asking Meaningful Questions"
      ],
      "metadata": {
        "id": "EDuX5rtCtSg8"
      }
    },
    {
      "cell_type": "markdown",
      "source": [
        "- Kaggle dataset: https://www.kaggle.com/datasets/imakash3011/customer-personality-analysis\n",
        "- Problem Statement\n",
        " - Customer Personality Analysis is a detailed analysis of a company’s ideal customers. It helps a business to better understand its customers and makes it easier for them to modify products according to the specific needs, behaviors and concerns of different types of customers.\n",
        "\n"
      ],
      "metadata": {
        "id": "9ERFFHDftZMA"
      }
    },
    {
      "cell_type": "markdown",
      "source": [
        "Attributes about Customers\n",
        "- ID: Customer's unique identifier\n",
        "- Year_Birth: Customer's birth year\n",
        "- Education: Customer's education level\n",
        "- Marital_Status: Customer's marital status\n",
        "- Income: Customer's yearly household income\n",
        "- Kidhome: Number of children in customer's household\n",
        "- Teenhome: Number of teenagers in customer's household\n",
        "- Dt_Customer: Date of customer's enrollment with the company\n",
        "- Recency: Number of days since customer's last purchase\n",
        "- Complain: 1 if the customer complained in the last 2 years, 0 otherwise\n",
        "\n",
        "Attributes about Products\n",
        "- MntWines: Amount spent on wine in last 2 years\n",
        "- MntFruits: Amount spent on fruits in last 2 years\n",
        "- MntMeatProducts: Amount spent on meat in last 2 years\n",
        "- MntFishProducts: Amount spent on fish in last 2 years\n",
        "- MntSweetProducts: Amount spent on sweets in last 2 years\n",
        "- MntGoldProds: Amount spent on gold in last 2 years\n",
        "\n",
        "\n",
        "Attributes about Promotion:\n",
        "- NumDealsPurchases: Number of purchases made with a discount\n",
        "- AcceptedCmp1: 1 if customer accepted the offer in the 1st campaign, 0 otherwise\n",
        "- AcceptedCmp2: 1 if customer accepted the offer in the 2nd campaign, 0 otherwise\n",
        "- AcceptedCmp3: 1 if customer accepted the offer in the 3rd campaign, 0 otherwise\n",
        "- AcceptedCmp4: 1 if customer accepted the offer in the 4th campaign, 0 otherwise\n",
        "- AcceptedCmp5: 1 if customer accepted the offer in the 5th campaign, 0 otherwise\n",
        "- Response: 1 if customer accepted the offer in the last campaign, 0 otherwise\n",
        "\n",
        "Attributes about Place:\n",
        "- NumWebPurchases: Number of purchases made through the company’s website\n",
        "- NumCatalogPurchases: Number of purchases made using a catalogue\n",
        "- NumStorePurchases: Number of purchases made directly in stores\n",
        "- NumWebVisitsMonth: Number of visits to company’s website in the last month"
      ],
      "metadata": {
        "id": "OFW_xSGUu9cK"
      }
    },
    {
      "cell_type": "markdown",
      "source": [
        "### Questions\n",
        "- Retrieve the top-3 youngest married and single customers who accepted the offers in fewer than 3 times of promotions.\n",
        "- What are average numbers of Web purchases for customers who accepted the promotions at different times?\n",
        "- Discover the relationship between the customers who spent on more wines and more fruits; categorize customers in terms of different attributes"
      ],
      "metadata": {
        "id": "q3aeTkNxvWzj"
      }
    },
    {
      "cell_type": "markdown",
      "metadata": {
        "id": "yeCvs-3GF4kz"
      },
      "source": [
        "# Python Reviews"
      ]
    },
    {
      "cell_type": "markdown",
      "metadata": {
        "id": "Xn7EHoDSF4k2"
      },
      "source": [
        "#### Comments\n",
        "Any text preceded by the hash mark (pound sign) # is ignored by the Python interpreter.\n",
        "This is often used to add comments to code. At times you may also want to\n",
        "exclude certain blocks of code without deleting them. An easy solution is to comment\n",
        "out the code"
      ]
    },
    {
      "cell_type": "markdown",
      "source": [
        "#### Functions\n",
        "A function is a block of code which only runs when it is called. You can pass data, known as parameters, into a function. A function can return data as a result.\n",
        "\n",
        "In Python a function is defined using the def keyword. To call a function, use the function name followed by parenthesis. Information can be passed into functions as arguments."
      ],
      "metadata": {
        "id": "v2jSxRwusl_u"
      }
    },
    {
      "cell_type": "markdown",
      "source": [
        "```\n",
        "# Example\n",
        "def my_function(name):\n",
        "  print(\"Hello \" + name + \" from a function\")\n",
        "\n",
        "my_function(\"John\")\n",
        "```"
      ],
      "metadata": {
        "id": "UVS2HhpF88Wy"
      }
    },
    {
      "cell_type": "markdown",
      "metadata": {
        "id": "maGOhS3tF4k3"
      },
      "source": [
        "#### Variables and argument passing"
      ]
    },
    {
      "cell_type": "markdown",
      "metadata": {
        "id": "jBeYihPmF4k3"
      },
      "source": [
        "When assigning a variable (or name) in Python, you are creating a reference to the\n",
        "object on the righthand side of the equals sign. In practical terms, consider a list of\n",
        "integers"
      ]
    },
    {
      "cell_type": "markdown",
      "metadata": {
        "id": "TvctW7seF4k5"
      },
      "source": [
        "```\n",
        "data = [1, 2, 3]\n",
        "\n",
        "append_element(data, 4)\n",
        "\n",
        "data\n",
        "```"
      ]
    },
    {
      "cell_type": "markdown",
      "metadata": {
        "id": "ezu8qYJoF4k5"
      },
      "source": [
        "When you pass objects as arguments to a function, new local variables are created referencing\n",
        "the original objects without any copying. If you bind a new object to a variable\n",
        "inside a function, that change will not be reflected in the parent scope. It is\n",
        "therefore possible to alter the internals of a mutable argument. Suppose we had the\n",
        "following function:\n",
        "```python\n",
        "def append_element(some_list, element):\n",
        "    some_list.append(element)\n",
        "```"
      ]
    },
    {
      "cell_type": "markdown",
      "metadata": {
        "id": "cdpNMb7tF4k7"
      },
      "source": [
        "#### Imports\n",
        "In Python a module is simply a file with the .py extension containing Python code.\n",
        "Suppose that we had the following module:"
      ]
    },
    {
      "cell_type": "markdown",
      "metadata": {
        "id": "Yux-xn9yF4k7"
      },
      "source": [
        "```python\n",
        "# some_module.py\n",
        "PI = 3.14159\n",
        "\n",
        "def f(x):\n",
        "    return x + 2\n",
        "\n",
        "def g(a, b):\n",
        "    return a + b\n",
        "```"
      ]
    },
    {
      "cell_type": "markdown",
      "metadata": {
        "id": "lP4fsQA7F4k8"
      },
      "source": [
        "If we wanted to access the variables and functions defined in some_module.py, from\n",
        "another file in the same directory we could do:\n",
        "```\n",
        "import some_module\n",
        "result = some_module.f(5)\n",
        "pi = some_module.PI\n",
        "```"
      ]
    },
    {
      "cell_type": "markdown",
      "metadata": {
        "id": "Y7b1QSiYF4k8"
      },
      "source": [
        "```\n",
        "from some_module import f, g, PI\n",
        "result = g(5, PI)\n",
        "```"
      ]
    },
    {
      "cell_type": "markdown",
      "metadata": {
        "id": "NyEjMP3jF4k8"
      },
      "source": [
        "```\n",
        "import some_module as sm\n",
        "from some_module import PI as pi, g as gf\n",
        "\n",
        "r1 = sm.f(pi)\n",
        "r2 = gf(6, pi)\n",
        "```"
      ]
    },
    {
      "cell_type": "markdown",
      "metadata": {
        "id": "FOA8fdSWF4k-"
      },
      "source": [
        "#### Mutable and immutable objects\n",
        "Most objects in Python, such as lists, dicts, NumPy arrays, and most user-defined\n",
        "types (classes), are mutable. This means that the object or values that they contain can\n",
        "be modified:"
      ]
    },
    {
      "cell_type": "markdown",
      "metadata": {
        "id": "C-MUPQZ0F4k-"
      },
      "source": [
        "strings and tuples, are immutable:"
      ]
    },
    {
      "cell_type": "markdown",
      "metadata": {
        "id": "JqMd-vsAu7ZL"
      },
      "source": [
        "In Python, keys of dictionay must be immutable. tuples can be keys of dictionary.\n",
        "\n",
        "---\n",
        "\n"
      ]
    },
    {
      "cell_type": "markdown",
      "source": [
        "# Python Data Types"
      ],
      "metadata": {
        "id": "lBsXTo9YFsyV"
      }
    },
    {
      "cell_type": "markdown",
      "metadata": {
        "id": "OgzA73DpF4lC"
      },
      "source": [
        "### Scalar Types\n",
        "Python along with its standard library has a small set of built-in types for handling\n",
        "numerical data, strings, boolean (True or False) values, and dates and time. These\n",
        "“single value” types are sometimes called scalar types and we refer to them in this\n",
        "book as scalars."
      ]
    },
    {
      "cell_type": "markdown",
      "metadata": {
        "id": "5BvSTZhhF4lC"
      },
      "source": [
        "#### Numeric types"
      ]
    },
    {
      "cell_type": "markdown",
      "metadata": {
        "id": "mPFFzbgJF4lD"
      },
      "source": [
        "#### Strings\n",
        "Many people use Python for its powerful and flexible built-in string processing capabilities.\n",
        "You can write string literals using either single quotes ' or double quotes \":"
      ]
    },
    {
      "cell_type": "markdown",
      "metadata": {
        "id": "wz5k6Pv8F4lD"
      },
      "source": [
        "```\n",
        "a = 'one way of writing a string'\n",
        "b = \"another way\"\n",
        "```"
      ]
    },
    {
      "cell_type": "markdown",
      "metadata": {
        "id": "Ki3nkMdOF4lF"
      },
      "source": [
        "The syntax s[:3] is called slicing and is implemented for many kinds of Python\n",
        "sequences."
      ]
    },
    {
      "cell_type": "markdown",
      "metadata": {
        "id": "eqHrXoqeF4lF"
      },
      "source": [
        "The backslash character \\ is an escape character, meaning that it is used to specify\n",
        "special characters like newline \\n or Unicode characters."
      ]
    },
    {
      "cell_type": "markdown",
      "metadata": {
        "id": "FeRD3EdAF4lI"
      },
      "source": [
        "#### Booleans\n",
        "The two boolean values in Python are written as True and False. Comparisons and\n",
        "other conditional expressions evaluate to either True or False. Boolean values are\n",
        "combined with the and and or keywords:"
      ]
    },
    {
      "cell_type": "markdown",
      "metadata": {
        "id": "OHHEovYqF4lJ"
      },
      "source": [
        "#### Type casting\n",
        "The str, bool, int, and float types are also functions that can be used to cast values\n",
        "to those types:"
      ]
    },
    {
      "cell_type": "markdown",
      "metadata": {
        "id": "zpYlrvTUF4lJ"
      },
      "source": [
        "#### None\n",
        "None is the Python null value type. If a function does not explicitly return a value, it\n",
        "implicitly returns None:"
      ]
    },
    {
      "cell_type": "markdown",
      "metadata": {
        "id": "Ft6vI364F4lK"
      },
      "source": [
        "```\n",
        "def add_and_maybe_multiply(a, b, c=None):\n",
        "    result = a + b\n",
        "\n",
        "    if c is not None:\n",
        "        result = result * c\n",
        "\n",
        "    return result\n",
        "```"
      ]
    },
    {
      "cell_type": "markdown",
      "metadata": {
        "id": "48goS_GpF4lK"
      },
      "source": [
        "#### Dates and times\n",
        "The built-in Python datetime module provides datetime, date, and time types. The\n",
        "datetime type, as you may imagine, combines the information stored in date and\n",
        "time and is the most commonly used:"
      ]
    },
    {
      "cell_type": "code",
      "metadata": {
        "collapsed": true,
        "jupyter": {
          "outputs_hidden": true
        },
        "id": "07AhjhkUF4lK",
        "colab": {
          "base_uri": "https://localhost:8080/"
        },
        "outputId": "77c21aea-7529-428b-c6bb-cfbb8c84a7e7"
      },
      "source": [
        "from datetime import datetime, date, time\n",
        "dt = datetime(2011, 10, 29, 20, 30, 21)\n",
        "dt.day\n",
        "dt.minute"
      ],
      "execution_count": null,
      "outputs": [
        {
          "output_type": "execute_result",
          "data": {
            "text/plain": [
              "30"
            ]
          },
          "metadata": {},
          "execution_count": 35
        }
      ]
    },
    {
      "cell_type": "markdown",
      "metadata": {
        "id": "34Zl9qZSF4lK"
      },
      "source": [
        "Given a datetime instance, you can extract the equivalent date and time objects by\n",
        "calling methods on the datetime of the same name:"
      ]
    },
    {
      "cell_type": "code",
      "metadata": {
        "jupyter": {
          "outputs_hidden": true
        },
        "id": "Wb6gV9-yF4lL",
        "colab": {
          "base_uri": "https://localhost:8080/"
        },
        "outputId": "183d3070-d303-4b3c-f8ec-eb235a0efeb4"
      },
      "source": [
        "dt.date()"
      ],
      "execution_count": null,
      "outputs": [
        {
          "output_type": "execute_result",
          "data": {
            "text/plain": [
              "datetime.date(2011, 10, 29)"
            ]
          },
          "metadata": {},
          "execution_count": 36
        }
      ]
    },
    {
      "cell_type": "code",
      "metadata": {
        "colab": {
          "base_uri": "https://localhost:8080/"
        },
        "id": "EwMnZACg1Zi8",
        "outputId": "8217ce47-0de0-48dd-f2bd-c987048e70c6"
      },
      "source": [
        "dt.time()"
      ],
      "execution_count": null,
      "outputs": [
        {
          "output_type": "execute_result",
          "data": {
            "text/plain": [
              "datetime.time(20, 30, 21)"
            ]
          },
          "metadata": {
            "tags": []
          },
          "execution_count": 45
        }
      ]
    },
    {
      "cell_type": "markdown",
      "metadata": {
        "id": "5g8MmQZpF4lL"
      },
      "source": [
        "The strftime method formats a datetime as a string:"
      ]
    },
    {
      "cell_type": "code",
      "metadata": {
        "collapsed": true,
        "jupyter": {
          "outputs_hidden": true
        },
        "id": "-Ie1VAbdF4lL"
      },
      "source": [
        "dt.strftime('%m/%d/%Y %H:%M')"
      ],
      "execution_count": null,
      "outputs": []
    },
    {
      "cell_type": "markdown",
      "metadata": {
        "id": "s_XEBwA2F4lL"
      },
      "source": [
        "Strings can be converted (parsed) into datetime objects with the strptime function:"
      ]
    },
    {
      "cell_type": "code",
      "metadata": {
        "id": "UrLOe0_pF4lL"
      },
      "source": [
        "datetime.strptime('20091031', '%Y%m%d')"
      ],
      "execution_count": null,
      "outputs": []
    },
    {
      "cell_type": "markdown",
      "metadata": {
        "id": "ToFUPpIxF4lL"
      },
      "source": [
        "When you are aggregating or otherwise grouping time series data, it will occasionally\n",
        "be useful to replace time fields of a series of datetimes—for example, replacing the\n",
        "minute and second fields with zero:"
      ]
    },
    {
      "cell_type": "code",
      "metadata": {
        "collapsed": true,
        "jupyter": {
          "outputs_hidden": true
        },
        "id": "5Hf_EzQnF4lM"
      },
      "source": [
        "dt.replace(minute=0, second=0)"
      ],
      "execution_count": null,
      "outputs": []
    },
    {
      "cell_type": "markdown",
      "metadata": {
        "id": "UYw4_5RfF4lM"
      },
      "source": [
        "The difference of two datetime objects produces a datetime.timedelta type:"
      ]
    },
    {
      "cell_type": "code",
      "metadata": {
        "collapsed": true,
        "jupyter": {
          "outputs_hidden": true
        },
        "id": "Q0qSWJDYF4lM"
      },
      "source": [
        "dt2 = datetime(2011, 11, 15, 22, 30)\n",
        "delta = dt2 - dt\n",
        "delta\n",
        "type(delta)"
      ],
      "execution_count": null,
      "outputs": []
    },
    {
      "cell_type": "markdown",
      "metadata": {
        "id": "x0zmK-doF4lM"
      },
      "source": [
        "Adding a timedelta to a datetime produces a new shifted datetime:"
      ]
    },
    {
      "cell_type": "code",
      "metadata": {
        "collapsed": true,
        "jupyter": {
          "outputs_hidden": true
        },
        "id": "-51s1GVGF4lM"
      },
      "source": [
        "dt\n",
        "dt + delta"
      ],
      "execution_count": null,
      "outputs": []
    },
    {
      "cell_type": "markdown",
      "source": [
        "### Exercise:\n",
        "- Print out the weekday of today.\n",
        "- Print out the numerical order of today's date in this year."
      ],
      "metadata": {
        "id": "NJQ3Wkc6wq0b"
      }
    },
    {
      "cell_type": "code",
      "source": [],
      "metadata": {
        "id": "ey6Gk0SXxnWR"
      },
      "execution_count": null,
      "outputs": []
    },
    {
      "cell_type": "markdown",
      "metadata": {
        "id": "InfISMEaF4lM"
      },
      "source": [
        "### Control Flow\n",
        "Python has several built-in keywords for conditional logic, loops, and other standard\n",
        "control flow concepts found in other programming languages."
      ]
    },
    {
      "cell_type": "markdown",
      "metadata": {
        "id": "nhT17jh3F4lN"
      },
      "source": [
        "#### if, elif, and else"
      ]
    },
    {
      "cell_type": "markdown",
      "metadata": {
        "id": "iak0dmL4F4lN"
      },
      "source": [
        "```\n",
        "if x < 0:\n",
        "    print('It's negative')\n",
        "```"
      ]
    },
    {
      "cell_type": "code",
      "metadata": {
        "id": "iKko9YRE1-MH"
      },
      "source": [
        "x = -2"
      ],
      "execution_count": null,
      "outputs": []
    },
    {
      "cell_type": "code",
      "metadata": {
        "colab": {
          "base_uri": "https://localhost:8080/"
        },
        "id": "Pq646Wqe13Od",
        "outputId": "0fa7241d-e679-4d70-98dc-98e08da969c4"
      },
      "source": [
        "if x <0:\n",
        "    print(\"it's negative\")"
      ],
      "execution_count": null,
      "outputs": [
        {
          "output_type": "stream",
          "text": [
            "it's negative\n"
          ],
          "name": "stdout"
        }
      ]
    },
    {
      "cell_type": "markdown",
      "metadata": {
        "id": "hpJDfzl1F4lN"
      },
      "source": [
        "```\n",
        "if x < 0:\n",
        "    print('It's negative')\n",
        "elif x == 0:\n",
        "    print('Equal to zero')\n",
        "elif 0 < x < 5:\n",
        "    print('Positive but smaller than 5')\n",
        "else:\n",
        "    print('Positive and larger than or equal to 5')\n",
        "```"
      ]
    },
    {
      "cell_type": "markdown",
      "metadata": {
        "id": "NfA2dsyBF4lN"
      },
      "source": [
        "If any of the conditions is True, no further elif or else blocks will be reached. With\n",
        "a compound condition using and or or, conditions are evaluated left to right and will\n",
        "short-circuit:"
      ]
    },
    {
      "cell_type": "markdown",
      "metadata": {
        "id": "uAI5CZedF4lN"
      },
      "source": [
        "It is also possible to chain comparisons:"
      ]
    },
    {
      "cell_type": "code",
      "metadata": {
        "collapsed": true,
        "jupyter": {
          "outputs_hidden": true
        },
        "id": "N7kGk39tF4lN"
      },
      "source": [
        "4 > 3 > 2 > 1"
      ],
      "execution_count": null,
      "outputs": []
    },
    {
      "cell_type": "markdown",
      "metadata": {
        "id": "NgteapShF4lO"
      },
      "source": [
        "#### for loops\n",
        "for loops are for iterating over a collection (like a list or tuple) or an iterater. The\n",
        "standard syntax for a for loop is:"
      ]
    },
    {
      "cell_type": "markdown",
      "metadata": {
        "id": "ppbD5jNOF4lO"
      },
      "source": [
        "```\n",
        "for value in collection:\n",
        "    # do something with value\n",
        "````"
      ]
    },
    {
      "cell_type": "markdown",
      "metadata": {
        "id": "WzU9qfDjF4lO"
      },
      "source": [
        "You can advance a for loop to the next iteration, skipping the remainder of the block,\n",
        "using the continue keyword. Consider this code, which sums up integers in a list and\n",
        "skips None values:\n",
        "```\n",
        "sequence = [1, 2, None, 4, None, 5]\n",
        "total = 0\n",
        "for value in sequence:\n",
        "    if value is None:\n",
        "        continue\n",
        "    total += value\n",
        "```"
      ]
    },
    {
      "cell_type": "markdown",
      "metadata": {
        "id": "E0BMBCiTF4lO"
      },
      "source": [
        "A for loop can be exited altogether with the break keyword. This code sums elements\n",
        "of the list until a 5 is reached:\n",
        "```\n",
        "sequence = [1, 2, 0, 4, 6, 5, 2, 1]\n",
        "total_until_5 = 0\n",
        "for value in sequence:\n",
        "    if value == 5:\n",
        "        break\n",
        "    total_until_5 += value\n",
        "```"
      ]
    },
    {
      "cell_type": "markdown",
      "metadata": {
        "id": "WJzGUs26F4lP"
      },
      "source": [
        "As we will see in more detail, if the elements in the collection or iterator are sequences\n",
        "(tuples or lists, say), they can be conveniently unpacked into variables in the for\n",
        "loop statement:\n",
        "```\n",
        "for a, b, c in iterator:\n",
        "    # do something\n",
        "```"
      ]
    },
    {
      "cell_type": "markdown",
      "metadata": {
        "id": "J-HnWKeYF4lP"
      },
      "source": [
        "#### while loops\n",
        "A while loop specifies a condition and a block of code that is to be executed until the\n",
        "condition evaluates to False or the loop is explicitly ended with break:"
      ]
    },
    {
      "cell_type": "markdown",
      "metadata": {
        "id": "TqBunSFRF4lP"
      },
      "source": [
        "```\n",
        "x = 256\n",
        "total = 0\n",
        "while x > 0:\n",
        "    if total > 500:\n",
        "        break\n",
        "    total += x\n",
        "    x = x // 2\n",
        "```"
      ]
    },
    {
      "cell_type": "code",
      "source": [],
      "metadata": {
        "id": "f4IYz6EIxkwk"
      },
      "execution_count": null,
      "outputs": []
    },
    {
      "cell_type": "markdown",
      "metadata": {
        "id": "-1DR6_OVF4lP"
      },
      "source": [
        "#### pass\n",
        "pass is the “no-op” statement in Python. It can be used in blocks where no action is to\n",
        "be taken (or as a placeholder for code not yet implemented); it is only required\n",
        "because Python uses whitespace to delimit blocks:"
      ]
    },
    {
      "cell_type": "markdown",
      "metadata": {
        "id": "ZADoq3RcF4lQ"
      },
      "source": [
        "```\n",
        "if x < 0:\n",
        "    print('negative!')\n",
        "elif x == 0:\n",
        "    # TODO: put something smart here\n",
        "    pass\n",
        "else:\n",
        "    print('positive!')\n",
        "```"
      ]
    },
    {
      "cell_type": "markdown",
      "metadata": {
        "id": "LGfNv6_DF4lQ"
      },
      "source": [
        "#### range\n",
        "The range function returns an iterator that yields a sequence of evenly spaced\n",
        "integers:"
      ]
    },
    {
      "cell_type": "code",
      "metadata": {
        "collapsed": true,
        "jupyter": {
          "outputs_hidden": true
        },
        "id": "fTn4reChF4lQ"
      },
      "source": [
        "range(10)\n",
        "list(range(10))"
      ],
      "execution_count": null,
      "outputs": []
    },
    {
      "cell_type": "code",
      "metadata": {
        "collapsed": true,
        "jupyter": {
          "outputs_hidden": true
        },
        "id": "57LSK1uVF4lQ"
      },
      "source": [
        "list(range(0, 20, 2))\n",
        "list(range(5, 0, -1))"
      ],
      "execution_count": null,
      "outputs": []
    },
    {
      "cell_type": "markdown",
      "metadata": {
        "id": "tKAwNx2nF4lQ"
      },
      "source": [
        "seq = [1, 2, 3, 4]\n",
        "for i in range(len(seq)):\n",
        "    val = seq[i]"
      ]
    },
    {
      "cell_type": "markdown",
      "metadata": {
        "id": "m4w76P0RF4lR"
      },
      "source": [
        "sum = 0\n",
        "for i in range(100000):\n",
        "    # % is the modulo operator\n",
        "    if i % 3 == 0 or i % 5 == 0:\n",
        "        sum += i"
      ]
    },
    {
      "cell_type": "markdown",
      "source": [
        "### Exercise:\n",
        "- Write a for loop to print out the numbers between 0-20 indicating whether the number is even or odd."
      ],
      "metadata": {
        "id": "pXK0ieXfxpwf"
      }
    },
    {
      "cell_type": "code",
      "source": [],
      "metadata": {
        "id": "_EE2cIO4yPny"
      },
      "execution_count": null,
      "outputs": []
    },
    {
      "cell_type": "markdown",
      "metadata": {
        "id": "RQJwODijJjSe"
      },
      "source": [
        "## Exception in Python"
      ]
    },
    {
      "cell_type": "code",
      "metadata": {
        "colab": {
          "base_uri": "https://localhost:8080/"
        },
        "id": "a4U87W__JnQM",
        "outputId": "42be75a6-5552-4b95-9cdc-6d50dceba2fd"
      },
      "source": [
        "fileName = 'empty_lines.txt'\n",
        "try:\n",
        "    with open(fileName, 'r') as f:\n",
        "        line = f.readlines()\n",
        "        print(lines)\n",
        "except FileNotFoundError:\n",
        "    print(\"{} desn't exist\".format(fileName))"
      ],
      "execution_count": null,
      "outputs": [
        {
          "output_type": "stream",
          "text": [
            "['this is a Line\\n', '\\n', 'this is a Line\\n', '\\n', '\\n', '\\n', 'this is a Line\\n']\n"
          ],
          "name": "stdout"
        }
      ]
    },
    {
      "cell_type": "code",
      "metadata": {
        "id": "wLNpkIiVSUXf"
      },
      "source": [
        "filename = 'empty_lines'"
      ],
      "execution_count": null,
      "outputs": []
    },
    {
      "cell_type": "code",
      "metadata": {
        "colab": {
          "base_uri": "https://localhost:8080/"
        },
        "id": "sL0xZLUMR1mL",
        "outputId": "1fc4fa23-45a5-4122-e63d-8912f657bcc1"
      },
      "source": [
        "try:\n",
        "    with open(filename, 'r') as f:\n",
        "        line = f.readlines()\n",
        "        print(lines)\n",
        "except OSError:\n",
        "    print(\"{} doesn't exist\".format(filename))"
      ],
      "execution_count": null,
      "outputs": [
        {
          "output_type": "stream",
          "text": [
            "empty_lines doesn't exist\n"
          ],
          "name": "stdout"
        }
      ]
    },
    {
      "cell_type": "markdown",
      "metadata": {
        "id": "ZLHPuJWyF4lV"
      },
      "source": [
        "# References\n",
        "\n",
        "Python for Data Analysis by Wes McKinney. Publisher: O'Reilly Media."
      ]
    }
  ]
}